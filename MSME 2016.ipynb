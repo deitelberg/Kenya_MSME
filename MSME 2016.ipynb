{
 "cells": [
  {
   "cell_type": "code",
   "execution_count": null,
   "metadata": {},
   "outputs": [],
   "source": [
    "# Standard imports\n",
    "import os\n",
    "import pandas as pd\n",
    "\n",
    "from IPython.display import display, HTML\n",
    "\n",
    "# Custom imports\n",
    "import config as c"
   ]
  },
  {
   "cell_type": "code",
   "execution_count": null,
   "metadata": {},
   "outputs": [],
   "source": [
    "os.path.isfile(c.msme_dta)"
   ]
  },
  {
   "cell_type": "code",
   "execution_count": null,
   "metadata": {},
   "outputs": [],
   "source": [
    "def read_stata_file(dta, columns):\n",
    "    if len(columns)==0:\n",
    "        columns = None\n",
    "    else:\n",
    "        pass\n",
    "    \n",
    "    df = pd.read_stata(dta, columns=columns)\n",
    "\n",
    "    return df "
   ]
  },
  {
   "cell_type": "code",
   "execution_count": null,
   "metadata": {},
   "outputs": [],
   "source": [
    "# Columns from the STATA file to read in. If left blank, all columns are read in.\n",
    "#cols = ['ls_index', 'county11', 'eg16_1'] \n",
    "cols = []\n",
    "df = read_stata_file(c.msme_dta, cols)\n",
    "df\n"
   ]
  },
  {
   "cell_type": "code",
   "execution_count": null,
   "metadata": {},
   "outputs": [],
   "source": [
    "str_to_check = ['count', 'merg']\n",
    "col_names = list(df)\n",
    "\n",
    "desired_cols = [n for n in col_names if any(s.lower() in n.lower() for s in str_to_check)]\n",
    "desired_cols"
   ]
  },
  {
   "cell_type": "code",
   "execution_count": null,
   "metadata": {},
   "outputs": [],
   "source": [
    "# Refine the df to desired columns\n",
    "df = df[desired_cols]\n",
    "df.head(5)"
   ]
  },
  {
   "cell_type": "code",
   "execution_count": null,
   "metadata": {
    "scrolled": false
   },
   "outputs": [],
   "source": [
    "print('DF Shape: {} rows x {} columns'.format(df.shape[0], df.shape[1]))\n",
    "print(display(HTML(df.head(5).to_html())))"
   ]
  },
  {
   "cell_type": "code",
   "execution_count": null,
   "metadata": {},
   "outputs": [],
   "source": [
    "df = df.sort_values('county11')\n",
    "#df_gr = df.groupby('county11').agg(['count'])\n",
    "series_gr = df.groupby('county11').county11.count().sort_values(axis='index')\n",
    "df_gr = series_gr.to_frame(name='count').reset_index()\n",
    "#print(display(HTML(df_gr.to_html())))\n",
    "df_gr.sort_values(by='county11')"
   ]
  },
  {
   "cell_type": "code",
   "execution_count": null,
   "metadata": {},
   "outputs": [],
   "source": []
  }
 ],
 "metadata": {
  "kernelspec": {
   "display_name": "Python 3",
   "language": "python",
   "name": "python3"
  },
  "language_info": {
   "codemirror_mode": {
    "name": "ipython",
    "version": 3
   },
   "file_extension": ".py",
   "mimetype": "text/x-python",
   "name": "python",
   "nbconvert_exporter": "python",
   "pygments_lexer": "ipython3",
   "version": "3.6.7"
  }
 },
 "nbformat": 4,
 "nbformat_minor": 2
}
